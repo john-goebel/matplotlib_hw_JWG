{
 "cells": [
  {
   "cell_type": "code",
   "execution_count": null,
   "metadata": {},
   "outputs": [],
   "source": [
    "%matplotlib inline\n",
    "# Dependencies and Setup\n",
    "import matplotlib.pyplot as plt\n",
    "import pandas as pd\n",
    "import numpy as np\n",
    "\n",
    "# File to Load (Remember to change these)\n",
    "city_data_to_load = \"data/city_data.csv\"\n",
    "ride_data_to_load = \"data/ride_data.csv\"\n",
    "\n",
    "# Read the City and Ride Data\n",
    "cityData = pd.read_csv(city_data_to_load)\n",
    "rideData = pd.read_csv(ride_data_to_load)\n",
    "\n",
    "# Combine the data into a single dataset\n",
    "crData = pd.merge(cityData, rideData, on=\"city\")\n",
    "\n"
   ]
  },
  {
   "cell_type": "code",
   "execution_count": null,
   "metadata": {},
   "outputs": [],
   "source": [
    "rideData.head()"
   ]
  },
  {
   "cell_type": "code",
   "execution_count": null,
   "metadata": {},
   "outputs": [],
   "source": [
    "cityData.head()"
   ]
  },
  {
   "cell_type": "code",
   "execution_count": null,
   "metadata": {
    "scrolled": true
   },
   "outputs": [],
   "source": [
    "# Display the data table for preview\n",
    "crData.head()"
   ]
  },
  {
   "cell_type": "code",
   "execution_count": null,
   "metadata": {},
   "outputs": [],
   "source": [
    "ridesCityTot = crData[\"city\"].value_counts().to_frame().reset_index()\n",
    "ridesCityTot.columns = [\"city\", \"rides\"]\n",
    "\n",
    "fareCityTot = rideData[[\"city\", \"fare\"]]\n",
    "fareCityTot = fareCityTot.groupby(\"city\").sum()\n",
    "\n",
    "chart_df = cityData.merge(ridesCityTot, on=\"city\")\n",
    "chart_df2 = chart_df.merge(fareCityTot, on=\"city\")\n",
    "\n",
    "chart_df2[\"avg_fare_city\"] = chart_df2[\"fare\"] / chart_df2[\"rides\"]\n",
    "chart_df2[\"avg_fare_driver\"] = chart_df2[\"fare\"] / chart_df2[\"driver_count\"]\n",
    "\n",
    "\n",
    "    \n",
    "# ridesCityTot\n",
    "# chart_df.head()\n",
    "chart_df2.head()\n"
   ]
  },
  {
   "cell_type": "code",
   "execution_count": null,
   "metadata": {},
   "outputs": [],
   "source": []
  },
  {
   "cell_type": "code",
   "execution_count": null,
   "metadata": {},
   "outputs": [],
   "source": [
    "# populate color designation by city type\n",
    "\n",
    "typeColor = []\n",
    "\n",
    "for n in chart_df2[\"type\"]:\n",
    "    if n == \"Urban\":\n",
    "        typeColor.append(\"peachpuff\")\n",
    "    elif n == \"Suburban\":\n",
    "        typeColor.append(\"skyblue\")\n",
    "    else:\n",
    "        typeColor.append(\"khaki\")\n",
    "\n",
    "chart_df2[\"color\"] = typeColor\n",
    "# chart_df2"
   ]
  },
  {
   "cell_type": "code",
   "execution_count": null,
   "metadata": {},
   "outputs": [],
   "source": [
    "ax = plt.scatter(chart_df2[\"rides\"], chart_df2[\"avg_fare_city\"], s=(chart_df2[\"driver_count\"]*10), marker=\"o\", facecolors=chart_df2[\"color\"], edgecolors=\"grey\", alpha=.75)\n",
    "plt.grid()\n",
    "plt.xlabel(\"Rides per City\")\n",
    "plt.ylabel(\"Avg Fare ($)\")\n",
    "plt.title(\"Pyber Ride Share Data 2018\")\n",
    "caption = \"* Cicle size represents driver count per city\"\n",
    "plt.text(15, 13, caption, ha=\"center\")\n",
    "plt.show()"
   ]
  },
  {
   "cell_type": "code",
   "execution_count": null,
   "metadata": {},
   "outputs": [],
   "source": [
    "# what the legend should look like if I could get it to appear properly in the \n",
    "\n",
    "handles = [\"Urban\", \"Suburban\", \"Rural\"]\n",
    "legColors = {\n",
    "    \"Urban\": \"peachpuff\",\n",
    "    \"Suburban\": \"skyblue\",\n",
    "    \"Rural\": \"khaki\"\n",
    "}\n",
    "\n",
    "for item in handles:\n",
    "    ax1=plt.scatter([], [], c=legColors[item], s = 50, label = item, edgecolors=\"grey\", alpha=.75)\n",
    "\n",
    "    \n",
    "ax1 = plt.legend(handles, frameon=True, labelspacing=1, title=\"City Types\", loc=\"best\")"
   ]
  },
  {
   "cell_type": "markdown",
   "metadata": {},
   "source": [
    "## Total Fares by City Type"
   ]
  },
  {
   "cell_type": "code",
   "execution_count": null,
   "metadata": {},
   "outputs": [],
   "source": [
    "# Calculate Type Percents\n",
    "\n",
    "# Build Pie Chart\n",
    "\n",
    "# Save Figure\n"
   ]
  },
  {
   "cell_type": "code",
   "execution_count": null,
   "metadata": {},
   "outputs": [],
   "source": [
    "# Show Figure\n",
    "plt.show()"
   ]
  },
  {
   "cell_type": "markdown",
   "metadata": {},
   "source": [
    "## Total Rides by City Type"
   ]
  },
  {
   "cell_type": "code",
   "execution_count": null,
   "metadata": {},
   "outputs": [],
   "source": [
    "# Calculate Ride Percents\n",
    "\n",
    "# Build Pie Chart\n",
    "\n",
    "# Save Figure\n"
   ]
  },
  {
   "cell_type": "code",
   "execution_count": null,
   "metadata": {},
   "outputs": [],
   "source": [
    "# Show Figure\n",
    "plt.show()"
   ]
  },
  {
   "cell_type": "markdown",
   "metadata": {},
   "source": [
    "## Total Drivers by City Type"
   ]
  },
  {
   "cell_type": "code",
   "execution_count": null,
   "metadata": {},
   "outputs": [],
   "source": [
    "# Calculate Driver Percents\n",
    "\n",
    "# Build Pie Charts\n",
    "\n",
    "# Save Figure\n"
   ]
  },
  {
   "cell_type": "code",
   "execution_count": null,
   "metadata": {
    "scrolled": true
   },
   "outputs": [],
   "source": [
    "# Show Figure\n",
    "plt.show()"
   ]
  },
  {
   "cell_type": "code",
   "execution_count": null,
   "metadata": {},
   "outputs": [],
   "source": [
    "ridesCityTot = pd.DataFrame(crData[\"city\"].value_counts()"
   ]
  },
  {
   "cell_type": "code",
   "execution_count": null,
   "metadata": {},
   "outputs": [],
   "source": []
  }
 ],
 "metadata": {
  "anaconda-cloud": {},
  "kernelspec": {
   "display_name": "Python 3",
   "language": "python",
   "name": "python3"
  },
  "language_info": {
   "codemirror_mode": {
    "name": "ipython",
    "version": 3
   },
   "file_extension": ".py",
   "mimetype": "text/x-python",
   "name": "python",
   "nbconvert_exporter": "python",
   "pygments_lexer": "ipython3",
   "version": "3.7.3"
  }
 },
 "nbformat": 4,
 "nbformat_minor": 2
}
